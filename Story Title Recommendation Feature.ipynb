{
  "nbformat": 4,
  "nbformat_minor": 0,
  "metadata": {
    "colab": {
      "provenance": []
    },
    "kernelspec": {
      "name": "python3",
      "display_name": "Python 3"
    },
    "language_info": {
      "name": "python"
    }
  },
  "cells": [
    {
      "cell_type": "code",
      "execution_count": 1,
      "metadata": {
        "id": "kjwppQBBqOFb"
      },
      "outputs": [],
      "source": [
        "from google.colab import drive"
      ]
    },
    {
      "cell_type": "code",
      "source": [
        "import pandas as pd\n",
        "import re\n",
        "import numpy as np"
      ],
      "metadata": {
        "id": "a7d0zrkKtLk_"
      },
      "execution_count": 2,
      "outputs": []
    },
    {
      "cell_type": "code",
      "source": [
        "from sklearn.model_selection import train_test_split"
      ],
      "metadata": {
        "id": "FKGCNEuqtPpg"
      },
      "execution_count": 3,
      "outputs": []
    },
    {
      "cell_type": "code",
      "source": [
        "import tensorflow as tf\n",
        "import string\n",
        "from tensorflow import keras\n",
        "from tensorflow.keras.preprocessing.text import Tokenizer\n",
        "from tensorflow.keras.preprocessing import text, sequence\n",
        "from tensorflow.keras.layers import LSTM,Dense,Embedding,Dropout\n",
        "from tensorflow.keras.layers import Input\n",
        "from tensorflow.keras.layers import Concatenate\n",
        "from tensorflow.keras.models import Model\n",
        "from tensorflow.keras.models import Sequential\n",
        "from tensorflow.keras.optimizers import Adam\n"
      ],
      "metadata": {
        "id": "YBwUxB09tVA9"
      },
      "execution_count": 4,
      "outputs": []
    },
    {
      "cell_type": "code",
      "source": [
        "import matplotlib.pyplot as plt"
      ],
      "metadata": {
        "id": "F0uvXyv5tYWr"
      },
      "execution_count": 5,
      "outputs": []
    },
    {
      "cell_type": "code",
      "source": [
        "drive.mount('/content/drive/')"
      ],
      "metadata": {
        "id": "zEGTa6Z2rGv-",
        "colab": {
          "base_uri": "https://localhost:8080/"
        },
        "outputId": "13c3f71d-fee0-42ad-f509-e9f0de504f30"
      },
      "execution_count": 6,
      "outputs": [
        {
          "output_type": "stream",
          "name": "stdout",
          "text": [
            "Mounted at /content/drive/\n"
          ]
        }
      ]
    },
    {
      "cell_type": "code",
      "source": [
        "#READ DATASET\n",
        "dataframe = pd.read_csv(\"/content/drive/My Drive/train.csv\")\n",
        "dataframe.head()"
      ],
      "metadata": {
        "id": "vk8-_SjwrXBS",
        "colab": {
          "base_uri": "https://localhost:8080/",
          "height": 206
        },
        "outputId": "765ab025-a860-4371-e9ac-e7203083f83e"
      },
      "execution_count": 7,
      "outputs": [
        {
          "output_type": "execute_result",
          "data": {
            "text/plain": [
              "                                               Title               Author  \\\n",
              "0       Reflections as a Senior: My Favorite Moments  Mayoma Jolayemi '23   \n",
              "1    The Transformative Power of a Bachelor’s Degree         Clive Walker   \n",
              "2               Managing stress in College Academics          Vivek Rajak   \n",
              "3                              My college experience      Laurent Etienne   \n",
              "4  Choosing a Major: Finding Your Passion and Car...      Caroline Archer   \n",
              "\n",
              "                               Category  Pengalaman Pribadi  Kesehatan Mental  \\\n",
              "0                    Pengalaman Pribadi                   1                 0   \n",
              "1                    Pengalaman Pribadi                   1                 0   \n",
              "2  Pengalaman Pribadi, Kesehatan Mental                   1                 1   \n",
              "3                    Pengalaman Pribadi                   1                 0   \n",
              "4                    Pengalaman Pribadi                   1                 0   \n",
              "\n",
              "   Profesi  Percintaan  Mistis  \n",
              "0        0           0       0  \n",
              "1        0           0       0  \n",
              "2        0           0       0  \n",
              "3        0           0       0  \n",
              "4        0           0       0  "
            ],
            "text/html": [
              "\n",
              "  <div id=\"df-d8a9dc53-006a-492c-a4b6-3b4576f2709c\">\n",
              "    <div class=\"colab-df-container\">\n",
              "      <div>\n",
              "<style scoped>\n",
              "    .dataframe tbody tr th:only-of-type {\n",
              "        vertical-align: middle;\n",
              "    }\n",
              "\n",
              "    .dataframe tbody tr th {\n",
              "        vertical-align: top;\n",
              "    }\n",
              "\n",
              "    .dataframe thead th {\n",
              "        text-align: right;\n",
              "    }\n",
              "</style>\n",
              "<table border=\"1\" class=\"dataframe\">\n",
              "  <thead>\n",
              "    <tr style=\"text-align: right;\">\n",
              "      <th></th>\n",
              "      <th>Title</th>\n",
              "      <th>Author</th>\n",
              "      <th>Category</th>\n",
              "      <th>Pengalaman Pribadi</th>\n",
              "      <th>Kesehatan Mental</th>\n",
              "      <th>Profesi</th>\n",
              "      <th>Percintaan</th>\n",
              "      <th>Mistis</th>\n",
              "    </tr>\n",
              "  </thead>\n",
              "  <tbody>\n",
              "    <tr>\n",
              "      <th>0</th>\n",
              "      <td>Reflections as a Senior: My Favorite Moments</td>\n",
              "      <td>Mayoma Jolayemi '23</td>\n",
              "      <td>Pengalaman Pribadi</td>\n",
              "      <td>1</td>\n",
              "      <td>0</td>\n",
              "      <td>0</td>\n",
              "      <td>0</td>\n",
              "      <td>0</td>\n",
              "    </tr>\n",
              "    <tr>\n",
              "      <th>1</th>\n",
              "      <td>The Transformative Power of a Bachelor’s Degree</td>\n",
              "      <td>Clive Walker</td>\n",
              "      <td>Pengalaman Pribadi</td>\n",
              "      <td>1</td>\n",
              "      <td>0</td>\n",
              "      <td>0</td>\n",
              "      <td>0</td>\n",
              "      <td>0</td>\n",
              "    </tr>\n",
              "    <tr>\n",
              "      <th>2</th>\n",
              "      <td>Managing stress in College Academics</td>\n",
              "      <td>Vivek Rajak</td>\n",
              "      <td>Pengalaman Pribadi, Kesehatan Mental</td>\n",
              "      <td>1</td>\n",
              "      <td>1</td>\n",
              "      <td>0</td>\n",
              "      <td>0</td>\n",
              "      <td>0</td>\n",
              "    </tr>\n",
              "    <tr>\n",
              "      <th>3</th>\n",
              "      <td>My college experience</td>\n",
              "      <td>Laurent Etienne</td>\n",
              "      <td>Pengalaman Pribadi</td>\n",
              "      <td>1</td>\n",
              "      <td>0</td>\n",
              "      <td>0</td>\n",
              "      <td>0</td>\n",
              "      <td>0</td>\n",
              "    </tr>\n",
              "    <tr>\n",
              "      <th>4</th>\n",
              "      <td>Choosing a Major: Finding Your Passion and Car...</td>\n",
              "      <td>Caroline Archer</td>\n",
              "      <td>Pengalaman Pribadi</td>\n",
              "      <td>1</td>\n",
              "      <td>0</td>\n",
              "      <td>0</td>\n",
              "      <td>0</td>\n",
              "      <td>0</td>\n",
              "    </tr>\n",
              "  </tbody>\n",
              "</table>\n",
              "</div>\n",
              "      <button class=\"colab-df-convert\" onclick=\"convertToInteractive('df-d8a9dc53-006a-492c-a4b6-3b4576f2709c')\"\n",
              "              title=\"Convert this dataframe to an interactive table.\"\n",
              "              style=\"display:none;\">\n",
              "        \n",
              "  <svg xmlns=\"http://www.w3.org/2000/svg\" height=\"24px\"viewBox=\"0 0 24 24\"\n",
              "       width=\"24px\">\n",
              "    <path d=\"M0 0h24v24H0V0z\" fill=\"none\"/>\n",
              "    <path d=\"M18.56 5.44l.94 2.06.94-2.06 2.06-.94-2.06-.94-.94-2.06-.94 2.06-2.06.94zm-11 1L8.5 8.5l.94-2.06 2.06-.94-2.06-.94L8.5 2.5l-.94 2.06-2.06.94zm10 10l.94 2.06.94-2.06 2.06-.94-2.06-.94-.94-2.06-.94 2.06-2.06.94z\"/><path d=\"M17.41 7.96l-1.37-1.37c-.4-.4-.92-.59-1.43-.59-.52 0-1.04.2-1.43.59L10.3 9.45l-7.72 7.72c-.78.78-.78 2.05 0 2.83L4 21.41c.39.39.9.59 1.41.59.51 0 1.02-.2 1.41-.59l7.78-7.78 2.81-2.81c.8-.78.8-2.07 0-2.86zM5.41 20L4 18.59l7.72-7.72 1.47 1.35L5.41 20z\"/>\n",
              "  </svg>\n",
              "      </button>\n",
              "      \n",
              "  <style>\n",
              "    .colab-df-container {\n",
              "      display:flex;\n",
              "      flex-wrap:wrap;\n",
              "      gap: 12px;\n",
              "    }\n",
              "\n",
              "    .colab-df-convert {\n",
              "      background-color: #E8F0FE;\n",
              "      border: none;\n",
              "      border-radius: 50%;\n",
              "      cursor: pointer;\n",
              "      display: none;\n",
              "      fill: #1967D2;\n",
              "      height: 32px;\n",
              "      padding: 0 0 0 0;\n",
              "      width: 32px;\n",
              "    }\n",
              "\n",
              "    .colab-df-convert:hover {\n",
              "      background-color: #E2EBFA;\n",
              "      box-shadow: 0px 1px 2px rgba(60, 64, 67, 0.3), 0px 1px 3px 1px rgba(60, 64, 67, 0.15);\n",
              "      fill: #174EA6;\n",
              "    }\n",
              "\n",
              "    [theme=dark] .colab-df-convert {\n",
              "      background-color: #3B4455;\n",
              "      fill: #D2E3FC;\n",
              "    }\n",
              "\n",
              "    [theme=dark] .colab-df-convert:hover {\n",
              "      background-color: #434B5C;\n",
              "      box-shadow: 0px 1px 3px 1px rgba(0, 0, 0, 0.15);\n",
              "      filter: drop-shadow(0px 1px 2px rgba(0, 0, 0, 0.3));\n",
              "      fill: #FFFFFF;\n",
              "    }\n",
              "  </style>\n",
              "\n",
              "      <script>\n",
              "        const buttonEl =\n",
              "          document.querySelector('#df-d8a9dc53-006a-492c-a4b6-3b4576f2709c button.colab-df-convert');\n",
              "        buttonEl.style.display =\n",
              "          google.colab.kernel.accessAllowed ? 'block' : 'none';\n",
              "\n",
              "        async function convertToInteractive(key) {\n",
              "          const element = document.querySelector('#df-d8a9dc53-006a-492c-a4b6-3b4576f2709c');\n",
              "          const dataTable =\n",
              "            await google.colab.kernel.invokeFunction('convertToInteractive',\n",
              "                                                     [key], {});\n",
              "          if (!dataTable) return;\n",
              "\n",
              "          const docLinkHtml = 'Like what you see? Visit the ' +\n",
              "            '<a target=\"_blank\" href=https://colab.research.google.com/notebooks/data_table.ipynb>data table notebook</a>'\n",
              "            + ' to learn more about interactive tables.';\n",
              "          element.innerHTML = '';\n",
              "          dataTable['output_type'] = 'display_data';\n",
              "          await google.colab.output.renderOutput(dataTable, element);\n",
              "          const docLink = document.createElement('div');\n",
              "          docLink.innerHTML = docLinkHtml;\n",
              "          element.appendChild(docLink);\n",
              "        }\n",
              "      </script>\n",
              "    </div>\n",
              "  </div>\n",
              "  "
            ]
          },
          "metadata": {},
          "execution_count": 7
        }
      ]
    },
    {
      "cell_type": "code",
      "source": [
        "dataframe = pd.read_csv(\"/content/drive/My Drive/train.csv\")\n",
        "dataframe.drop(['Author', 'Category'], axis=1, inplace=True)\n",
        "dataframe.head()"
      ],
      "metadata": {
        "colab": {
          "base_uri": "https://localhost:8080/",
          "height": 206
        },
        "id": "hXhCpvvIFe_9",
        "outputId": "2247bd22-5380-4a43-bfda-e6cb0d2f29ad"
      },
      "execution_count": 9,
      "outputs": [
        {
          "output_type": "execute_result",
          "data": {
            "text/plain": [
              "                                               Title  Pengalaman Pribadi  \\\n",
              "0       Reflections as a Senior: My Favorite Moments                   1   \n",
              "1    The Transformative Power of a Bachelor’s Degree                   1   \n",
              "2               Managing stress in College Academics                   1   \n",
              "3                              My college experience                   1   \n",
              "4  Choosing a Major: Finding Your Passion and Car...                   1   \n",
              "\n",
              "   Kesehatan Mental  Profesi  Percintaan  Mistis  \n",
              "0                 0        0           0       0  \n",
              "1                 0        0           0       0  \n",
              "2                 1        0           0       0  \n",
              "3                 0        0           0       0  \n",
              "4                 0        0           0       0  "
            ],
            "text/html": [
              "\n",
              "  <div id=\"df-907d5f76-6c98-4ba3-b499-2343850b173b\">\n",
              "    <div class=\"colab-df-container\">\n",
              "      <div>\n",
              "<style scoped>\n",
              "    .dataframe tbody tr th:only-of-type {\n",
              "        vertical-align: middle;\n",
              "    }\n",
              "\n",
              "    .dataframe tbody tr th {\n",
              "        vertical-align: top;\n",
              "    }\n",
              "\n",
              "    .dataframe thead th {\n",
              "        text-align: right;\n",
              "    }\n",
              "</style>\n",
              "<table border=\"1\" class=\"dataframe\">\n",
              "  <thead>\n",
              "    <tr style=\"text-align: right;\">\n",
              "      <th></th>\n",
              "      <th>Title</th>\n",
              "      <th>Pengalaman Pribadi</th>\n",
              "      <th>Kesehatan Mental</th>\n",
              "      <th>Profesi</th>\n",
              "      <th>Percintaan</th>\n",
              "      <th>Mistis</th>\n",
              "    </tr>\n",
              "  </thead>\n",
              "  <tbody>\n",
              "    <tr>\n",
              "      <th>0</th>\n",
              "      <td>Reflections as a Senior: My Favorite Moments</td>\n",
              "      <td>1</td>\n",
              "      <td>0</td>\n",
              "      <td>0</td>\n",
              "      <td>0</td>\n",
              "      <td>0</td>\n",
              "    </tr>\n",
              "    <tr>\n",
              "      <th>1</th>\n",
              "      <td>The Transformative Power of a Bachelor’s Degree</td>\n",
              "      <td>1</td>\n",
              "      <td>0</td>\n",
              "      <td>0</td>\n",
              "      <td>0</td>\n",
              "      <td>0</td>\n",
              "    </tr>\n",
              "    <tr>\n",
              "      <th>2</th>\n",
              "      <td>Managing stress in College Academics</td>\n",
              "      <td>1</td>\n",
              "      <td>1</td>\n",
              "      <td>0</td>\n",
              "      <td>0</td>\n",
              "      <td>0</td>\n",
              "    </tr>\n",
              "    <tr>\n",
              "      <th>3</th>\n",
              "      <td>My college experience</td>\n",
              "      <td>1</td>\n",
              "      <td>0</td>\n",
              "      <td>0</td>\n",
              "      <td>0</td>\n",
              "      <td>0</td>\n",
              "    </tr>\n",
              "    <tr>\n",
              "      <th>4</th>\n",
              "      <td>Choosing a Major: Finding Your Passion and Car...</td>\n",
              "      <td>1</td>\n",
              "      <td>0</td>\n",
              "      <td>0</td>\n",
              "      <td>0</td>\n",
              "      <td>0</td>\n",
              "    </tr>\n",
              "  </tbody>\n",
              "</table>\n",
              "</div>\n",
              "      <button class=\"colab-df-convert\" onclick=\"convertToInteractive('df-907d5f76-6c98-4ba3-b499-2343850b173b')\"\n",
              "              title=\"Convert this dataframe to an interactive table.\"\n",
              "              style=\"display:none;\">\n",
              "        \n",
              "  <svg xmlns=\"http://www.w3.org/2000/svg\" height=\"24px\"viewBox=\"0 0 24 24\"\n",
              "       width=\"24px\">\n",
              "    <path d=\"M0 0h24v24H0V0z\" fill=\"none\"/>\n",
              "    <path d=\"M18.56 5.44l.94 2.06.94-2.06 2.06-.94-2.06-.94-.94-2.06-.94 2.06-2.06.94zm-11 1L8.5 8.5l.94-2.06 2.06-.94-2.06-.94L8.5 2.5l-.94 2.06-2.06.94zm10 10l.94 2.06.94-2.06 2.06-.94-2.06-.94-.94-2.06-.94 2.06-2.06.94z\"/><path d=\"M17.41 7.96l-1.37-1.37c-.4-.4-.92-.59-1.43-.59-.52 0-1.04.2-1.43.59L10.3 9.45l-7.72 7.72c-.78.78-.78 2.05 0 2.83L4 21.41c.39.39.9.59 1.41.59.51 0 1.02-.2 1.41-.59l7.78-7.78 2.81-2.81c.8-.78.8-2.07 0-2.86zM5.41 20L4 18.59l7.72-7.72 1.47 1.35L5.41 20z\"/>\n",
              "  </svg>\n",
              "      </button>\n",
              "      \n",
              "  <style>\n",
              "    .colab-df-container {\n",
              "      display:flex;\n",
              "      flex-wrap:wrap;\n",
              "      gap: 12px;\n",
              "    }\n",
              "\n",
              "    .colab-df-convert {\n",
              "      background-color: #E8F0FE;\n",
              "      border: none;\n",
              "      border-radius: 50%;\n",
              "      cursor: pointer;\n",
              "      display: none;\n",
              "      fill: #1967D2;\n",
              "      height: 32px;\n",
              "      padding: 0 0 0 0;\n",
              "      width: 32px;\n",
              "    }\n",
              "\n",
              "    .colab-df-convert:hover {\n",
              "      background-color: #E2EBFA;\n",
              "      box-shadow: 0px 1px 2px rgba(60, 64, 67, 0.3), 0px 1px 3px 1px rgba(60, 64, 67, 0.15);\n",
              "      fill: #174EA6;\n",
              "    }\n",
              "\n",
              "    [theme=dark] .colab-df-convert {\n",
              "      background-color: #3B4455;\n",
              "      fill: #D2E3FC;\n",
              "    }\n",
              "\n",
              "    [theme=dark] .colab-df-convert:hover {\n",
              "      background-color: #434B5C;\n",
              "      box-shadow: 0px 1px 3px 1px rgba(0, 0, 0, 0.15);\n",
              "      filter: drop-shadow(0px 1px 2px rgba(0, 0, 0, 0.3));\n",
              "      fill: #FFFFFF;\n",
              "    }\n",
              "  </style>\n",
              "\n",
              "      <script>\n",
              "        const buttonEl =\n",
              "          document.querySelector('#df-907d5f76-6c98-4ba3-b499-2343850b173b button.colab-df-convert');\n",
              "        buttonEl.style.display =\n",
              "          google.colab.kernel.accessAllowed ? 'block' : 'none';\n",
              "\n",
              "        async function convertToInteractive(key) {\n",
              "          const element = document.querySelector('#df-907d5f76-6c98-4ba3-b499-2343850b173b');\n",
              "          const dataTable =\n",
              "            await google.colab.kernel.invokeFunction('convertToInteractive',\n",
              "                                                     [key], {});\n",
              "          if (!dataTable) return;\n",
              "\n",
              "          const docLinkHtml = 'Like what you see? Visit the ' +\n",
              "            '<a target=\"_blank\" href=https://colab.research.google.com/notebooks/data_table.ipynb>data table notebook</a>'\n",
              "            + ' to learn more about interactive tables.';\n",
              "          element.innerHTML = '';\n",
              "          dataTable['output_type'] = 'display_data';\n",
              "          await google.colab.output.renderOutput(dataTable, element);\n",
              "          const docLink = document.createElement('div');\n",
              "          docLink.innerHTML = docLinkHtml;\n",
              "          element.appendChild(docLink);\n",
              "        }\n",
              "      </script>\n",
              "    </div>\n",
              "  </div>\n",
              "  "
            ]
          },
          "metadata": {},
          "execution_count": 9
        }
      ]
    },
    {
      "cell_type": "code",
      "source": [
        "dataframe.shape"
      ],
      "metadata": {
        "colab": {
          "base_uri": "https://localhost:8080/"
        },
        "id": "5TmHPMdE_MJr",
        "outputId": "92a28700-77c0-4207-ac70-f7451536a11a"
      },
      "execution_count": 10,
      "outputs": [
        {
          "output_type": "execute_result",
          "data": {
            "text/plain": [
              "(100, 6)"
            ]
          },
          "metadata": {},
          "execution_count": 10
        }
      ]
    },
    {
      "cell_type": "code",
      "source": [
        "dataframe.Title = dataframe.Title.astype('string')\n",
        "dataframe.dtypes"
      ],
      "metadata": {
        "id": "R_HxINEYoha-",
        "colab": {
          "base_uri": "https://localhost:8080/"
        },
        "outputId": "bc9f6192-99b2-4184-d8d5-9b30657e45ac"
      },
      "execution_count": 11,
      "outputs": [
        {
          "output_type": "execute_result",
          "data": {
            "text/plain": [
              "Title                 string\n",
              "Pengalaman Pribadi     int64\n",
              "Kesehatan Mental       int64\n",
              "Profesi                int64\n",
              "Percintaan             int64\n",
              "Mistis                 int64\n",
              "dtype: object"
            ]
          },
          "metadata": {},
          "execution_count": 11
        }
      ]
    },
    {
      "cell_type": "code",
      "source": [
        "dataframe.isnull().sum()"
      ],
      "metadata": {
        "colab": {
          "base_uri": "https://localhost:8080/"
        },
        "id": "Y_LJA6ecp7ez",
        "outputId": "53ecbce4-03ef-4730-8c68-9ff1f6dc1bcc"
      },
      "execution_count": 12,
      "outputs": [
        {
          "output_type": "execute_result",
          "data": {
            "text/plain": [
              "Title                 0\n",
              "Pengalaman Pribadi    0\n",
              "Kesehatan Mental      0\n",
              "Profesi               0\n",
              "Percintaan            0\n",
              "Mistis                0\n",
              "dtype: int64"
            ]
          },
          "metadata": {},
          "execution_count": 12
        }
      ]
    },
    {
      "cell_type": "code",
      "source": [
        "Article = dataframe.Title.values\n",
        "y_fields = ['Pengalaman Pribadi',\t'Kesehatan Mental',\t'Profesi'\t,'Percintaan',\t'Mistis']\n",
        "y = dataframe[y_fields].values"
      ],
      "metadata": {
        "id": "V_XWR00dx1ad"
      },
      "execution_count": 13,
      "outputs": []
    },
    {
      "cell_type": "code",
      "source": [
        "test_x = pd.read_csv('/content/drive/My Drive/test.csv')\n",
        "test_y = pd.read_csv('/content/drive/My Drive/test_labels.csv')"
      ],
      "metadata": {
        "id": "j-ZTeBphBBBb"
      },
      "execution_count": 16,
      "outputs": []
    },
    {
      "cell_type": "code",
      "source": [
        "x_test = test_x['Title'].values\n",
        "y_test = test_y[y_fields].values"
      ],
      "metadata": {
        "id": "8ZEZiLIlGqcI"
      },
      "execution_count": 17,
      "outputs": []
    },
    {
      "cell_type": "code",
      "source": [
        "tokenizer = Tokenizer(num_words=10000)\n",
        "tokenizer.fit_on_texts(Article)\n",
        "\n",
        "# Tokenization of x_test\n",
        "tokenizer.fit_on_texts(x_test)"
      ],
      "metadata": {
        "id": "buYtPcCkG7_Z"
      },
      "execution_count": 18,
      "outputs": []
    },
    {
      "cell_type": "code",
      "source": [
        "sent_length = 100\n",
        "voc_size = 10000\n",
        "input_dim = 10"
      ],
      "metadata": {
        "id": "h1BzJajB-lD0"
      },
      "execution_count": 19,
      "outputs": []
    },
    {
      "cell_type": "code",
      "source": [
        "seq = tokenizer.texts_to_sequences(Article)\n",
        "pad = sequence.pad_sequences(seq, maxlen=100)\n",
        "\n",
        "test_seq = tokenizer.texts_to_sequences(x_test)\n",
        "test_pad = sequence.pad_sequences(test_seq, maxlen=100)\n",
        "     "
      ],
      "metadata": {
        "id": "n4_sqkPmHQxq"
      },
      "execution_count": 20,
      "outputs": []
    },
    {
      "cell_type": "code",
      "source": [
        "model = Sequential()\n",
        "model.add(Embedding(voc_size, input_dim, input_length=sent_length))\n",
        "model.add(LSTM(128))\n",
        "model.add(Dense(5, activation='sigmoid'))\n",
        "#model.add(Dropout(.3))\n",
        "model.compile(loss='categorical_crossentropy', optimizer='Adam', metrics=['accuracy'])\n",
        "model.summary()"
      ],
      "metadata": {
        "id": "H_PxXdsL0pdV",
        "colab": {
          "base_uri": "https://localhost:8080/"
        },
        "outputId": "35a3f3e0-8eca-4318-ccee-989bb8bdf41a"
      },
      "execution_count": 21,
      "outputs": [
        {
          "output_type": "stream",
          "name": "stdout",
          "text": [
            "Model: \"sequential\"\n",
            "_________________________________________________________________\n",
            " Layer (type)                Output Shape              Param #   \n",
            "=================================================================\n",
            " embedding (Embedding)       (None, 100, 10)           100000    \n",
            "                                                                 \n",
            " lstm (LSTM)                 (None, 128)               71168     \n",
            "                                                                 \n",
            " dense (Dense)               (None, 5)                 645       \n",
            "                                                                 \n",
            "=================================================================\n",
            "Total params: 171,813\n",
            "Trainable params: 171,813\n",
            "Non-trainable params: 0\n",
            "_________________________________________________________________\n"
          ]
        }
      ]
    },
    {
      "cell_type": "code",
      "source": [
        "len(pad), y.shape , len(test_pad), y_test.shape"
      ],
      "metadata": {
        "colab": {
          "base_uri": "https://localhost:8080/"
        },
        "id": "GXU2LpO7-3CN",
        "outputId": "1d611b2b-8d2d-445d-f97c-0f4798929b42"
      },
      "execution_count": 22,
      "outputs": [
        {
          "output_type": "execute_result",
          "data": {
            "text/plain": [
              "(100, (100, 5), 100, (100, 5))"
            ]
          },
          "metadata": {},
          "execution_count": 22
        }
      ]
    },
    {
      "cell_type": "code",
      "source": [
        "x_train = np.array(pad)\n",
        "y_train = np.array(y)\n",
        "\n",
        "x_test = np.array(test_pad)\n",
        "y_test = np.array(y_test)"
      ],
      "metadata": {
        "id": "su80_uj0yWR2"
      },
      "execution_count": 23,
      "outputs": []
    },
    {
      "cell_type": "code",
      "source": [
        "x_train.shape , y_train.shape , x_test.shape, y_test.shape"
      ],
      "metadata": {
        "id": "LNYfTMZ2yk9U",
        "colab": {
          "base_uri": "https://localhost:8080/"
        },
        "outputId": "a2fec15d-c060-42a5-d08e-e96e17632683"
      },
      "execution_count": 24,
      "outputs": [
        {
          "output_type": "execute_result",
          "data": {
            "text/plain": [
              "((100, 100), (100, 5), (100, 100), (100, 5))"
            ]
          },
          "metadata": {},
          "execution_count": 24
        }
      ]
    },
    {
      "cell_type": "code",
      "source": [
        "history=model.fit(x_train,y_train, validation_data=(x_test,y_test), epochs=50, batch_size=64)"
      ],
      "metadata": {
        "colab": {
          "base_uri": "https://localhost:8080/"
        },
        "id": "RyeFxte1IOsW",
        "outputId": "4a3cd8e7-24ec-42df-deed-c1cc84face23"
      },
      "execution_count": 26,
      "outputs": [
        {
          "output_type": "stream",
          "name": "stdout",
          "text": [
            "Epoch 1/50\n",
            "2/2 [==============================] - 0s 281ms/step - loss: 1.6265 - accuracy: 0.4600 - val_loss: 1.6237 - val_accuracy: 0.4600\n",
            "Epoch 2/50\n",
            "2/2 [==============================] - 0s 250ms/step - loss: 1.6246 - accuracy: 0.4600 - val_loss: 1.6233 - val_accuracy: 0.4600\n",
            "Epoch 3/50\n",
            "2/2 [==============================] - 1s 416ms/step - loss: 1.6239 - accuracy: 0.4600 - val_loss: 1.6269 - val_accuracy: 0.4600\n",
            "Epoch 4/50\n",
            "2/2 [==============================] - 1s 431ms/step - loss: 1.6295 - accuracy: 0.4600 - val_loss: 1.6306 - val_accuracy: 0.4600\n",
            "Epoch 5/50\n",
            "2/2 [==============================] - 1s 594ms/step - loss: 1.6313 - accuracy: 0.4600 - val_loss: 1.6286 - val_accuracy: 0.4600\n",
            "Epoch 6/50\n",
            "2/2 [==============================] - 1s 554ms/step - loss: 1.6286 - accuracy: 0.4600 - val_loss: 1.6255 - val_accuracy: 0.4600\n",
            "Epoch 7/50\n",
            "2/2 [==============================] - 1s 422ms/step - loss: 1.6262 - accuracy: 0.4600 - val_loss: 1.6233 - val_accuracy: 0.4600\n",
            "Epoch 8/50\n",
            "2/2 [==============================] - 1s 290ms/step - loss: 1.6255 - accuracy: 0.4600 - val_loss: 1.6219 - val_accuracy: 0.4600\n",
            "Epoch 9/50\n",
            "2/2 [==============================] - 0s 240ms/step - loss: 1.6213 - accuracy: 0.4600 - val_loss: 1.6187 - val_accuracy: 0.4600\n",
            "Epoch 10/50\n",
            "2/2 [==============================] - 0s 306ms/step - loss: 1.6196 - accuracy: 0.4600 - val_loss: 1.6181 - val_accuracy: 0.4600\n",
            "Epoch 11/50\n",
            "2/2 [==============================] - 0s 235ms/step - loss: 1.6218 - accuracy: 0.4600 - val_loss: 1.6178 - val_accuracy: 0.4600\n",
            "Epoch 12/50\n",
            "2/2 [==============================] - 0s 285ms/step - loss: 1.6173 - accuracy: 0.4600 - val_loss: 1.6155 - val_accuracy: 0.4600\n",
            "Epoch 13/50\n",
            "2/2 [==============================] - 0s 287ms/step - loss: 1.6151 - accuracy: 0.4600 - val_loss: 1.6142 - val_accuracy: 0.4600\n",
            "Epoch 14/50\n",
            "2/2 [==============================] - 0s 257ms/step - loss: 1.6138 - accuracy: 0.4600 - val_loss: 1.6138 - val_accuracy: 0.4600\n",
            "Epoch 15/50\n",
            "2/2 [==============================] - 0s 248ms/step - loss: 1.6175 - accuracy: 0.4600 - val_loss: 1.6150 - val_accuracy: 0.4600\n",
            "Epoch 16/50\n",
            "2/2 [==============================] - 0s 288ms/step - loss: 1.6210 - accuracy: 0.4600 - val_loss: 1.6107 - val_accuracy: 0.4600\n",
            "Epoch 17/50\n",
            "2/2 [==============================] - 0s 311ms/step - loss: 1.6111 - accuracy: 0.4600 - val_loss: 1.6091 - val_accuracy: 0.4600\n",
            "Epoch 18/50\n",
            "2/2 [==============================] - 0s 238ms/step - loss: 1.6094 - accuracy: 0.4600 - val_loss: 1.6069 - val_accuracy: 0.4600\n",
            "Epoch 19/50\n",
            "2/2 [==============================] - 0s 240ms/step - loss: 1.6071 - accuracy: 0.4600 - val_loss: 1.6033 - val_accuracy: 0.4600\n",
            "Epoch 20/50\n",
            "2/2 [==============================] - 0s 248ms/step - loss: 1.6035 - accuracy: 0.4600 - val_loss: 1.5981 - val_accuracy: 0.4600\n",
            "Epoch 21/50\n",
            "2/2 [==============================] - 0s 247ms/step - loss: 1.5989 - accuracy: 0.4600 - val_loss: 1.5961 - val_accuracy: 0.4600\n",
            "Epoch 22/50\n",
            "2/2 [==============================] - 0s 254ms/step - loss: 1.5957 - accuracy: 0.4600 - val_loss: 1.5941 - val_accuracy: 0.4600\n",
            "Epoch 23/50\n",
            "2/2 [==============================] - 0s 281ms/step - loss: 1.5942 - accuracy: 0.4600 - val_loss: 1.5910 - val_accuracy: 0.4600\n",
            "Epoch 24/50\n",
            "2/2 [==============================] - 0s 249ms/step - loss: 1.5908 - accuracy: 0.4600 - val_loss: 1.5886 - val_accuracy: 0.4600\n",
            "Epoch 25/50\n",
            "2/2 [==============================] - 0s 230ms/step - loss: 1.5880 - accuracy: 0.4600 - val_loss: 1.5886 - val_accuracy: 0.4600\n",
            "Epoch 26/50\n",
            "2/2 [==============================] - 0s 281ms/step - loss: 1.5922 - accuracy: 0.4600 - val_loss: 1.5928 - val_accuracy: 0.4600\n",
            "Epoch 27/50\n",
            "2/2 [==============================] - 0s 318ms/step - loss: 1.5916 - accuracy: 0.4600 - val_loss: 1.5813 - val_accuracy: 0.4600\n",
            "Epoch 28/50\n",
            "2/2 [==============================] - 0s 281ms/step - loss: 1.5793 - accuracy: 0.4600 - val_loss: 1.5710 - val_accuracy: 0.4600\n",
            "Epoch 29/50\n",
            "2/2 [==============================] - 0s 307ms/step - loss: 1.5689 - accuracy: 0.4600 - val_loss: 1.5656 - val_accuracy: 0.4600\n",
            "Epoch 30/50\n",
            "2/2 [==============================] - 0s 283ms/step - loss: 1.5673 - accuracy: 0.4600 - val_loss: 1.5545 - val_accuracy: 0.4600\n",
            "Epoch 31/50\n",
            "2/2 [==============================] - 1s 522ms/step - loss: 1.5670 - accuracy: 0.4600 - val_loss: 1.5496 - val_accuracy: 0.4600\n",
            "Epoch 32/50\n",
            "2/2 [==============================] - 1s 432ms/step - loss: 1.5484 - accuracy: 0.4600 - val_loss: 1.5463 - val_accuracy: 0.5200\n",
            "Epoch 33/50\n",
            "2/2 [==============================] - 1s 414ms/step - loss: 1.5434 - accuracy: 0.4800 - val_loss: 1.5314 - val_accuracy: 0.4600\n",
            "Epoch 34/50\n",
            "2/2 [==============================] - 1s 428ms/step - loss: 1.5346 - accuracy: 0.4600 - val_loss: 1.5235 - val_accuracy: 0.4900\n",
            "Epoch 35/50\n",
            "2/2 [==============================] - 1s 557ms/step - loss: 1.5217 - accuracy: 0.5800 - val_loss: 1.5154 - val_accuracy: 0.7300\n",
            "Epoch 36/50\n",
            "2/2 [==============================] - 1s 365ms/step - loss: 1.5171 - accuracy: 0.7300 - val_loss: 1.5016 - val_accuracy: 0.4600\n",
            "Epoch 37/50\n",
            "2/2 [==============================] - 0s 260ms/step - loss: 1.5074 - accuracy: 0.4800 - val_loss: 1.4944 - val_accuracy: 0.4600\n",
            "Epoch 38/50\n",
            "2/2 [==============================] - 0s 295ms/step - loss: 1.4886 - accuracy: 0.4800 - val_loss: 1.4549 - val_accuracy: 0.7300\n",
            "Epoch 39/50\n",
            "2/2 [==============================] - 0s 296ms/step - loss: 1.4522 - accuracy: 0.7300 - val_loss: 1.4350 - val_accuracy: 0.6900\n",
            "Epoch 40/50\n",
            "2/2 [==============================] - 0s 290ms/step - loss: 1.4381 - accuracy: 0.6400 - val_loss: 1.4252 - val_accuracy: 0.7000\n",
            "Epoch 41/50\n",
            "2/2 [==============================] - 0s 237ms/step - loss: 1.4240 - accuracy: 0.6500 - val_loss: 1.3902 - val_accuracy: 0.7100\n",
            "Epoch 42/50\n",
            "2/2 [==============================] - 0s 282ms/step - loss: 1.3873 - accuracy: 0.7000 - val_loss: 1.4340 - val_accuracy: 0.6000\n",
            "Epoch 43/50\n",
            "2/2 [==============================] - 0s 289ms/step - loss: 1.4684 - accuracy: 0.5800 - val_loss: 1.4525 - val_accuracy: 0.4600\n",
            "Epoch 44/50\n",
            "2/2 [==============================] - 0s 245ms/step - loss: 1.4390 - accuracy: 0.4800 - val_loss: 1.3913 - val_accuracy: 0.7300\n",
            "Epoch 45/50\n",
            "2/2 [==============================] - 0s 250ms/step - loss: 1.3848 - accuracy: 0.7300 - val_loss: 1.3822 - val_accuracy: 0.6900\n",
            "Epoch 46/50\n",
            "2/2 [==============================] - 0s 299ms/step - loss: 1.3832 - accuracy: 0.7000 - val_loss: 1.3452 - val_accuracy: 0.7200\n",
            "Epoch 47/50\n",
            "2/2 [==============================] - 0s 259ms/step - loss: 1.3631 - accuracy: 0.7000 - val_loss: 1.3415 - val_accuracy: 0.7100\n",
            "Epoch 48/50\n",
            "2/2 [==============================] - 0s 240ms/step - loss: 1.3482 - accuracy: 0.7100 - val_loss: 1.2926 - val_accuracy: 0.7200\n",
            "Epoch 49/50\n",
            "2/2 [==============================] - 0s 232ms/step - loss: 1.2922 - accuracy: 0.7000 - val_loss: 1.2426 - val_accuracy: 0.7000\n",
            "Epoch 50/50\n",
            "2/2 [==============================] - 0s 289ms/step - loss: 1.2543 - accuracy: 0.7100 - val_loss: 1.2329 - val_accuracy: 0.7300\n"
          ]
        }
      ]
    },
    {
      "cell_type": "code",
      "source": [
        "model.evaluate(x_test, y_test, batch_size=32, verbose=2)"
      ],
      "metadata": {
        "colab": {
          "base_uri": "https://localhost:8080/"
        },
        "id": "hhbBb60-KNgI",
        "outputId": "9e5ad07f-b161-4ec0-9791-f257c48a7f49"
      },
      "execution_count": 27,
      "outputs": [
        {
          "output_type": "stream",
          "name": "stdout",
          "text": [
            "4/4 - 0s - loss: 1.2329 - accuracy: 0.7300 - 266ms/epoch - 67ms/step\n"
          ]
        },
        {
          "output_type": "execute_result",
          "data": {
            "text/plain": [
              "[1.232883334159851, 0.7300000190734863]"
            ]
          },
          "metadata": {},
          "execution_count": 27
        }
      ]
    },
    {
      "cell_type": "code",
      "source": [
        "plt.plot(history.history['accuracy'])\n",
        "plt.plot(history.history['val_accuracy'])\n",
        "\n",
        "plt.title('Model Accuracy')\n",
        "plt.ylabel('Accuracy')\n",
        "plt.xlabel('Epoch')\n",
        "plt.legend(['train', 'test'], loc='upper left')\n",
        "plt.show()\n",
        "\n",
        "plt.plot(history.history['loss'])\n",
        "plt.plot(history.history['val_loss'])\n",
        "\n",
        "plt.title('Model Loss')\n",
        "plt.ylabel('Loss')\n",
        "plt.xlabel('Epoch')\n",
        "plt.legend(['train', 'test'], loc='upper left')\n",
        "plt.show()"
      ],
      "metadata": {
        "colab": {
          "base_uri": "https://localhost:8080/",
          "height": 927
        },
        "id": "MrlmRpUIL1dV",
        "outputId": "a38af85d-82c8-428f-d004-5172654d9862"
      },
      "execution_count": 28,
      "outputs": [
        {
          "output_type": "display_data",
          "data": {
            "text/plain": [
              "<Figure size 640x480 with 1 Axes>"
            ],
            "image/png": "[encoded data removed]"
          },
          "metadata": {}
        },
        {
          "output_type": "display_data",
          "data": {
            "text/plain": [
              "<Figure size 640x480 with 1 Axes>"
            ],
            "image/png": "[encoded data removed]"
          },
          "metadata": {}
        }
      ]
    },
    {
      "cell_type": "code",
      "source": [
        "model.save('TRIAL_1_STORYVERSE.h5')"
      ],
      "metadata": {
        "id": "B8Z5y2q7KVEt"
      },
      "execution_count": 29,
      "outputs": []
    },
    {
      "cell_type": "code",
      "source": [
        "from tensorflow.keras.layers import Dropout\n",
        "\n",
        "model = Sequential()\n",
        "model.add(Embedding(voc_size, input_dim, input_length=sent_length ))\n",
        "model.add(Dropout(.3))\n",
        "model.add(LSTM(100))\n",
        "model.add(Dropout(.3))\n",
        "model.add(Dense(6, activation='softmax'))\n",
        "model.compile(loss='binary_crossentropy', optimizer='adam', metrics=['accuracy'])"
      ],
      "metadata": {
        "id": "31PrL6OmKcC0"
      },
      "execution_count": 30,
      "outputs": []
    },
    {
      "cell_type": "code",
      "source": [
        "from keras.models import load_model\n",
        "\n",
        "# To load the model\n",
        "load_model('TRIAL_1_STORYVERSE.h5')"
      ],
      "metadata": {
        "colab": {
          "base_uri": "https://localhost:8080/"
        },
        "id": "-6KQdDIjKkrP",
        "outputId": "cdea65d7-3e17-4f76-8300-52a6300e6193"
      },
      "execution_count": 31,
      "outputs": [
        {
          "output_type": "execute_result",
          "data": {
            "text/plain": [
              "<keras.engine.sequential.Sequential at 0x7fbffec42050>"
            ]
          },
          "metadata": {},
          "execution_count": 31
        }
      ]
    },
    {
      "cell_type": "code",
      "source": [
        "category=dataframe[\"Title\"] != \"\"\n",
        "dataframe=dataframe[category]\n",
        "dataframe=dataframe.dropna()"
      ],
      "metadata": {
        "id": "KAvNZNBwz6fd"
      },
      "execution_count": 32,
      "outputs": []
    },
    {
      "cell_type": "code",
      "source": [
        "print(dataframe[\"Title\"][52])"
      ],
      "metadata": {
        "colab": {
          "base_uri": "https://localhost:8080/"
        },
        "id": "nwvqB-mE0u3k",
        "outputId": "22c3372c-4485-41d0-fbdf-30139508a0d6"
      },
      "execution_count": 41,
      "outputs": [
        {
          "output_type": "stream",
          "name": "stdout",
          "text": [
            "Pengalaman Saya Selama Menjadi UX Designer Intern di Blibli.com\n"
          ]
        }
      ]
    },
    {
      "cell_type": "code",
      "source": [
        "print(\"Pengalaman Pribadi:\" + str(dataframe[\"Pengalaman Pribadi\"][52]))\n",
        "print(\"Kesehatan Mental:\" + str(dataframe[\"Kesehatan Mental\"][52]))\n",
        "print(\"Profesi:\" + str(dataframe[\"Profesi\"][52]))\n",
        "print(\"Percintaan:\" + str(dataframe[\"Percintaan\"][52]))\n",
        "print(\"Mistis:\" + str(dataframe[\"Mistis\"][52]))"
      ],
      "metadata": {
        "colab": {
          "base_uri": "https://localhost:8080/"
        },
        "id": "iLmzg4Cq1epJ",
        "outputId": "c78865c3-8814-407b-da99-2606cb765bef"
      },
      "execution_count": 42,
      "outputs": [
        {
          "output_type": "stream",
          "name": "stdout",
          "text": [
            "Pengalaman Pribadi:1\n",
            "Kesehatan Mental:0\n",
            "Profesi:1\n",
            "Percintaan:0\n",
            "Mistis:0\n"
          ]
        }
      ]
    },
    {
      "cell_type": "markdown",
      "source": [
        "# satu kategori"
      ],
      "metadata": {
        "id": "3qFbyUUGVetI"
      }
    },
    {
      "cell_type": "code",
      "source": [
        "# Membuat fungsi untuk merekomendasikan judul berdasarkan kategori-kategori menggunakan model pelatihan\n",
        "def recommend_titles(categories):\n",
        "    # Mengambil judul-judul dengan kategori-kategori yang diberikan\n",
        "    category_titles = dataframe[dataframe[categories].all(axis=1)]['Title']\n",
        "    \n",
        "    # Mengubah judul-judul menjadi input yang sesuai dengan tokenizer\n",
        "    title_sequences = tokenizer.texts_to_sequences(category_titles)\n",
        "    title_sequences = sequence.pad_sequences(title_sequences, maxlen=100)\n",
        "    \n",
        "    # Melakukan prediksi menggunakan model yang telah dilatih\n",
        "    predictions = model.predict(title_sequences)\n",
        "    \n",
        "    # Menampilkan judul-judul yang memiliki semua kategori yang diberikan\n",
        "    for i in range(len(category_titles)):\n",
        "        title = category_titles.iloc[i]\n",
        "        print(title)\n",
        "\n",
        "# Contoh penggunaan: merekomendasikan judul-judul berdasarkan kategori\n",
        "recommend_titles([\"Mistis\"])"
      ],
      "metadata": {
        "colab": {
          "base_uri": "https://localhost:8080/"
        },
        "id": "Zs-ZKhc0uce_",
        "outputId": "0ba562ac-f22b-471a-b08b-cf96a45e0453"
      },
      "execution_count": 71,
      "outputs": [
        {
          "output_type": "stream",
          "name": "stdout",
          "text": [
            "1/1 [==============================] - 0s 41ms/step\n",
            "Cerita Mini : Suara yang Menumbangkan Malam\n",
            "4 Pengalaman Mistis (atau mungkin Parno Saja) yang Saya Alami Sepanjang Hidup\n"
          ]
        }
      ]
    },
    {
      "cell_type": "markdown",
      "source": [
        "# Lebih dari 2 Category"
      ],
      "metadata": {
        "id": "2c16nqdN1c5C"
      }
    },
    {
      "cell_type": "code",
      "source": [
        "# Membuat fungsi untuk merekomendasikan judul berdasarkan kategori-kategori menggunakan model pelatihan\n",
        "def recommend_titles(categories):\n",
        "    # Mengambil judul-judul dengan kategori-kategori yang diberikan\n",
        "    category_titles = dataframe[dataframe[categories].all(axis=1)]['Title']\n",
        "    \n",
        "    # Mengubah judul-judul menjadi input yang sesuai dengan tokenizer\n",
        "    title_sequences = tokenizer.texts_to_sequences(category_titles)\n",
        "    title_sequences = sequence.pad_sequences(title_sequences, maxlen=100)\n",
        "    \n",
        "    # Melakukan prediksi menggunakan model yang telah dilatih\n",
        "    predictions = model.predict(title_sequences)\n",
        "    \n",
        "    # Menampilkan judul-judul yang memiliki semua kategori yang diberikan\n",
        "    for i in range(len(category_titles)):\n",
        "        title = category_titles.iloc[i]\n",
        "        print(title)\n",
        "\n",
        "# Contoh penggunaan: merekomendasikan judul-judul berdasarkan kategori\n",
        "recommend_titles([\"Pengalaman Pribadi\", \"Profesi\"])"
      ],
      "metadata": {
        "colab": {
          "base_uri": "https://localhost:8080/"
        },
        "id": "6hKOYJD70-3E",
        "outputId": "7797dab2-c441-4283-fe13-3272680224e9"
      },
      "execution_count": 72,
      "outputs": [
        {
          "output_type": "stream",
          "name": "stdout",
          "text": [
            "1/1 [==============================] - 0s 32ms/step\n",
            "Menjadi Programmer dalam 6 Bulan (Pengalaman Pribadi)\n",
            "Menjadi Programmer dalam 6 Bulan (Pengalaman Pribadi)\n",
            "Menjalankan Bisnis Ala Introvert\n",
            "Goodbye, Data Analyst\n",
            "Pengalaman Kerja: 3 Tahun Sebagai Programmer\n",
            "Pengalaman Jadi Content Writer, Seru Gak Sih?\n",
            "Pengalaman Saya Selama Menjadi UX Designer Intern di Blibli.com\n",
            "Pengalaman Kerja Sebagai Programmer di Salah Satu Klien Glints Batam\n",
            "Pengalaman pindah haluan karir menjadi UX Designer atau Product Designer\n",
            "Mengatur Ritme Pekerjaan\n"
          ]
        }
      ]
    }
  ]
}
